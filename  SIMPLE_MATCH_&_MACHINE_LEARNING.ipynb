{
 "cells": [
  {
   "cell_type": "markdown",
   "metadata": {},
   "source": [
    "# SIMPLE MATCH & MACHINE LEARNING\n",
    "## Xilin Tian"
   ]
  },
  {
   "cell_type": "code",
   "execution_count": 2,
   "metadata": {},
   "outputs": [],
   "source": [
    "import pandas as pd\n",
    "import numpy as np\n",
    "import matplotlib.pyplot as plt\n",
    "\n",
    "import seaborn as sns\n",
    "\n",
    "%matplotlib inline"
   ]
  },
  {
   "cell_type": "code",
   "execution_count": 3,
   "metadata": {},
   "outputs": [
    {
     "data": {
      "text/html": [
       "<div>\n",
       "<style scoped>\n",
       "    .dataframe tbody tr th:only-of-type {\n",
       "        vertical-align: middle;\n",
       "    }\n",
       "\n",
       "    .dataframe tbody tr th {\n",
       "        vertical-align: top;\n",
       "    }\n",
       "\n",
       "    .dataframe thead th {\n",
       "        text-align: right;\n",
       "    }\n",
       "</style>\n",
       "<table border=\"1\" class=\"dataframe\">\n",
       "  <thead>\n",
       "    <tr style=\"text-align: right;\">\n",
       "      <th></th>\n",
       "      <th>ID</th>\n",
       "      <th>Category</th>\n",
       "      <th>Resume</th>\n",
       "      <th>branding</th>\n",
       "      <th>collateral</th>\n",
       "      <th>competitive analysis</th>\n",
       "      <th>content</th>\n",
       "      <th>customer journeys</th>\n",
       "      <th>data analytics</th>\n",
       "      <th>ecommerce</th>\n",
       "      <th>...</th>\n",
       "      <th>inbound marketing</th>\n",
       "      <th>influencer marketing</th>\n",
       "      <th>new market development</th>\n",
       "      <th>paid media and advertising</th>\n",
       "      <th>positioning</th>\n",
       "      <th>SEO</th>\n",
       "      <th>social media</th>\n",
       "      <th>webinars</th>\n",
       "      <th>website development</th>\n",
       "      <th>WordPress</th>\n",
       "    </tr>\n",
       "  </thead>\n",
       "  <tbody>\n",
       "    <tr>\n",
       "      <th>0</th>\n",
       "      <td>1</td>\n",
       "      <td>HR</td>\n",
       "      <td>b'John H. Smith, P.H.R.\\n800-991-5187 | PO Box...</td>\n",
       "      <td>0</td>\n",
       "      <td>0</td>\n",
       "      <td>0</td>\n",
       "      <td>0</td>\n",
       "      <td>0</td>\n",
       "      <td>0</td>\n",
       "      <td>0</td>\n",
       "      <td>...</td>\n",
       "      <td>0</td>\n",
       "      <td>0</td>\n",
       "      <td>0</td>\n",
       "      <td>0</td>\n",
       "      <td>0</td>\n",
       "      <td>0</td>\n",
       "      <td>0</td>\n",
       "      <td>1</td>\n",
       "      <td>0</td>\n",
       "      <td>0</td>\n",
       "    </tr>\n",
       "    <tr>\n",
       "      <th>1</th>\n",
       "      <td>2</td>\n",
       "      <td>HR</td>\n",
       "      <td>b'Name Surname\\nAddress\\nMobile No/Email\\nPERS...</td>\n",
       "      <td>0</td>\n",
       "      <td>0</td>\n",
       "      <td>0</td>\n",
       "      <td>0</td>\n",
       "      <td>0</td>\n",
       "      <td>0</td>\n",
       "      <td>0</td>\n",
       "      <td>...</td>\n",
       "      <td>0</td>\n",
       "      <td>0</td>\n",
       "      <td>0</td>\n",
       "      <td>0</td>\n",
       "      <td>0</td>\n",
       "      <td>0</td>\n",
       "      <td>0</td>\n",
       "      <td>0</td>\n",
       "      <td>0</td>\n",
       "      <td>0</td>\n",
       "    </tr>\n",
       "    <tr>\n",
       "      <th>2</th>\n",
       "      <td>3</td>\n",
       "      <td>HR</td>\n",
       "      <td>b'Anthony Brown\\nHR Assistant\\nAREAS OF EXPERT...</td>\n",
       "      <td>0</td>\n",
       "      <td>0</td>\n",
       "      <td>0</td>\n",
       "      <td>0</td>\n",
       "      <td>0</td>\n",
       "      <td>0</td>\n",
       "      <td>0</td>\n",
       "      <td>...</td>\n",
       "      <td>0</td>\n",
       "      <td>0</td>\n",
       "      <td>0</td>\n",
       "      <td>0</td>\n",
       "      <td>0</td>\n",
       "      <td>0</td>\n",
       "      <td>0</td>\n",
       "      <td>0</td>\n",
       "      <td>0</td>\n",
       "      <td>0</td>\n",
       "    </tr>\n",
       "    <tr>\n",
       "      <th>3</th>\n",
       "      <td>4</td>\n",
       "      <td>HR</td>\n",
       "      <td>b'www.downloadmela.com\\nSatheesh\\nEMAIL ID:\\nC...</td>\n",
       "      <td>0</td>\n",
       "      <td>0</td>\n",
       "      <td>0</td>\n",
       "      <td>0</td>\n",
       "      <td>0</td>\n",
       "      <td>0</td>\n",
       "      <td>0</td>\n",
       "      <td>...</td>\n",
       "      <td>0</td>\n",
       "      <td>0</td>\n",
       "      <td>0</td>\n",
       "      <td>0</td>\n",
       "      <td>0</td>\n",
       "      <td>0</td>\n",
       "      <td>0</td>\n",
       "      <td>0</td>\n",
       "      <td>0</td>\n",
       "      <td>0</td>\n",
       "    </tr>\n",
       "    <tr>\n",
       "      <th>4</th>\n",
       "      <td>5</td>\n",
       "      <td>HR</td>\n",
       "      <td>b\"HUMAN RESOURCES DIRECTOR\\n\\xef\\x82\\xb7Expert...</td>\n",
       "      <td>0</td>\n",
       "      <td>0</td>\n",
       "      <td>0</td>\n",
       "      <td>0</td>\n",
       "      <td>0</td>\n",
       "      <td>0</td>\n",
       "      <td>0</td>\n",
       "      <td>...</td>\n",
       "      <td>0</td>\n",
       "      <td>0</td>\n",
       "      <td>0</td>\n",
       "      <td>0</td>\n",
       "      <td>0</td>\n",
       "      <td>0</td>\n",
       "      <td>0</td>\n",
       "      <td>0</td>\n",
       "      <td>0</td>\n",
       "      <td>0</td>\n",
       "    </tr>\n",
       "    <tr>\n",
       "      <th>...</th>\n",
       "      <td>...</td>\n",
       "      <td>...</td>\n",
       "      <td>...</td>\n",
       "      <td>...</td>\n",
       "      <td>...</td>\n",
       "      <td>...</td>\n",
       "      <td>...</td>\n",
       "      <td>...</td>\n",
       "      <td>...</td>\n",
       "      <td>...</td>\n",
       "      <td>...</td>\n",
       "      <td>...</td>\n",
       "      <td>...</td>\n",
       "      <td>...</td>\n",
       "      <td>...</td>\n",
       "      <td>...</td>\n",
       "      <td>...</td>\n",
       "      <td>...</td>\n",
       "      <td>...</td>\n",
       "      <td>...</td>\n",
       "      <td>...</td>\n",
       "    </tr>\n",
       "    <tr>\n",
       "      <th>3672</th>\n",
       "      <td>99416532</td>\n",
       "      <td>AVIATION</td>\n",
       "      <td>RANK: SGT/E-5 NON- COMMISSIONED OFFIC...</td>\n",
       "      <td>0</td>\n",
       "      <td>0</td>\n",
       "      <td>0</td>\n",
       "      <td>0</td>\n",
       "      <td>0</td>\n",
       "      <td>0</td>\n",
       "      <td>0</td>\n",
       "      <td>...</td>\n",
       "      <td>0</td>\n",
       "      <td>0</td>\n",
       "      <td>0</td>\n",
       "      <td>0</td>\n",
       "      <td>0</td>\n",
       "      <td>0</td>\n",
       "      <td>0</td>\n",
       "      <td>0</td>\n",
       "      <td>0</td>\n",
       "      <td>0</td>\n",
       "    </tr>\n",
       "    <tr>\n",
       "      <th>3673</th>\n",
       "      <td>24589765</td>\n",
       "      <td>AVIATION</td>\n",
       "      <td>GOVERNMENT RELATIONS, COMMUNICATIONS ...</td>\n",
       "      <td>0</td>\n",
       "      <td>0</td>\n",
       "      <td>0</td>\n",
       "      <td>0</td>\n",
       "      <td>0</td>\n",
       "      <td>0</td>\n",
       "      <td>0</td>\n",
       "      <td>...</td>\n",
       "      <td>0</td>\n",
       "      <td>0</td>\n",
       "      <td>0</td>\n",
       "      <td>0</td>\n",
       "      <td>0</td>\n",
       "      <td>0</td>\n",
       "      <td>1</td>\n",
       "      <td>0</td>\n",
       "      <td>0</td>\n",
       "      <td>0</td>\n",
       "    </tr>\n",
       "    <tr>\n",
       "      <th>3674</th>\n",
       "      <td>31605080</td>\n",
       "      <td>AVIATION</td>\n",
       "      <td>GEEK SQUAD AGENT         Professional...</td>\n",
       "      <td>0</td>\n",
       "      <td>0</td>\n",
       "      <td>0</td>\n",
       "      <td>0</td>\n",
       "      <td>0</td>\n",
       "      <td>0</td>\n",
       "      <td>0</td>\n",
       "      <td>...</td>\n",
       "      <td>0</td>\n",
       "      <td>0</td>\n",
       "      <td>0</td>\n",
       "      <td>0</td>\n",
       "      <td>0</td>\n",
       "      <td>0</td>\n",
       "      <td>0</td>\n",
       "      <td>0</td>\n",
       "      <td>0</td>\n",
       "      <td>0</td>\n",
       "    </tr>\n",
       "    <tr>\n",
       "      <th>3675</th>\n",
       "      <td>21190805</td>\n",
       "      <td>AVIATION</td>\n",
       "      <td>PROGRAM DIRECTOR / OFFICE MANAGER    ...</td>\n",
       "      <td>0</td>\n",
       "      <td>0</td>\n",
       "      <td>0</td>\n",
       "      <td>0</td>\n",
       "      <td>0</td>\n",
       "      <td>0</td>\n",
       "      <td>0</td>\n",
       "      <td>...</td>\n",
       "      <td>0</td>\n",
       "      <td>0</td>\n",
       "      <td>0</td>\n",
       "      <td>0</td>\n",
       "      <td>0</td>\n",
       "      <td>0</td>\n",
       "      <td>1</td>\n",
       "      <td>0</td>\n",
       "      <td>0</td>\n",
       "      <td>0</td>\n",
       "    </tr>\n",
       "    <tr>\n",
       "      <th>3676</th>\n",
       "      <td>37473139</td>\n",
       "      <td>AVIATION</td>\n",
       "      <td>STOREKEEPER II       Professional Sum...</td>\n",
       "      <td>0</td>\n",
       "      <td>0</td>\n",
       "      <td>0</td>\n",
       "      <td>0</td>\n",
       "      <td>0</td>\n",
       "      <td>0</td>\n",
       "      <td>0</td>\n",
       "      <td>...</td>\n",
       "      <td>0</td>\n",
       "      <td>0</td>\n",
       "      <td>0</td>\n",
       "      <td>0</td>\n",
       "      <td>0</td>\n",
       "      <td>0</td>\n",
       "      <td>0</td>\n",
       "      <td>0</td>\n",
       "      <td>0</td>\n",
       "      <td>0</td>\n",
       "    </tr>\n",
       "  </tbody>\n",
       "</table>\n",
       "<p>3677 rows × 23 columns</p>\n",
       "</div>"
      ],
      "text/plain": [
       "            ID  Category                                             Resume  \\\n",
       "0            1        HR  b'John H. Smith, P.H.R.\\n800-991-5187 | PO Box...   \n",
       "1            2        HR  b'Name Surname\\nAddress\\nMobile No/Email\\nPERS...   \n",
       "2            3        HR  b'Anthony Brown\\nHR Assistant\\nAREAS OF EXPERT...   \n",
       "3            4        HR  b'www.downloadmela.com\\nSatheesh\\nEMAIL ID:\\nC...   \n",
       "4            5        HR  b\"HUMAN RESOURCES DIRECTOR\\n\\xef\\x82\\xb7Expert...   \n",
       "...        ...       ...                                                ...   \n",
       "3672  99416532  AVIATION           RANK: SGT/E-5 NON- COMMISSIONED OFFIC...   \n",
       "3673  24589765  AVIATION           GOVERNMENT RELATIONS, COMMUNICATIONS ...   \n",
       "3674  31605080  AVIATION           GEEK SQUAD AGENT         Professional...   \n",
       "3675  21190805  AVIATION           PROGRAM DIRECTOR / OFFICE MANAGER    ...   \n",
       "3676  37473139  AVIATION           STOREKEEPER II       Professional Sum...   \n",
       "\n",
       "      branding  collateral  competitive analysis  content  customer journeys  \\\n",
       "0            0           0                     0        0                  0   \n",
       "1            0           0                     0        0                  0   \n",
       "2            0           0                     0        0                  0   \n",
       "3            0           0                     0        0                  0   \n",
       "4            0           0                     0        0                  0   \n",
       "...        ...         ...                   ...      ...                ...   \n",
       "3672         0           0                     0        0                  0   \n",
       "3673         0           0                     0        0                  0   \n",
       "3674         0           0                     0        0                  0   \n",
       "3675         0           0                     0        0                  0   \n",
       "3676         0           0                     0        0                  0   \n",
       "\n",
       "      data analytics  ecommerce  ...  inbound marketing  influencer marketing  \\\n",
       "0                  0          0  ...                  0                     0   \n",
       "1                  0          0  ...                  0                     0   \n",
       "2                  0          0  ...                  0                     0   \n",
       "3                  0          0  ...                  0                     0   \n",
       "4                  0          0  ...                  0                     0   \n",
       "...              ...        ...  ...                ...                   ...   \n",
       "3672               0          0  ...                  0                     0   \n",
       "3673               0          0  ...                  0                     0   \n",
       "3674               0          0  ...                  0                     0   \n",
       "3675               0          0  ...                  0                     0   \n",
       "3676               0          0  ...                  0                     0   \n",
       "\n",
       "      new market development  paid media and advertising  positioning  SEO  \\\n",
       "0                          0                           0            0    0   \n",
       "1                          0                           0            0    0   \n",
       "2                          0                           0            0    0   \n",
       "3                          0                           0            0    0   \n",
       "4                          0                           0            0    0   \n",
       "...                      ...                         ...          ...  ...   \n",
       "3672                       0                           0            0    0   \n",
       "3673                       0                           0            0    0   \n",
       "3674                       0                           0            0    0   \n",
       "3675                       0                           0            0    0   \n",
       "3676                       0                           0            0    0   \n",
       "\n",
       "      social media  webinars  website development  WordPress  \n",
       "0                0         1                    0          0  \n",
       "1                0         0                    0          0  \n",
       "2                0         0                    0          0  \n",
       "3                0         0                    0          0  \n",
       "4                0         0                    0          0  \n",
       "...            ...       ...                  ...        ...  \n",
       "3672             0         0                    0          0  \n",
       "3673             1         0                    0          0  \n",
       "3674             0         0                    0          0  \n",
       "3675             1         0                    0          0  \n",
       "3676             0         0                    0          0  \n",
       "\n",
       "[3677 rows x 23 columns]"
      ]
     },
     "execution_count": 3,
     "metadata": {},
     "output_type": "execute_result"
    }
   ],
   "source": [
    "resume = pd.read_excel ('resume_add_skills.xlsx')\n",
    "resume"
   ]
  },
  {
   "cell_type": "code",
   "execution_count": 11,
   "metadata": {},
   "outputs": [
    {
     "data": {
      "text/html": [
       "<div>\n",
       "<style scoped>\n",
       "    .dataframe tbody tr th:only-of-type {\n",
       "        vertical-align: middle;\n",
       "    }\n",
       "\n",
       "    .dataframe tbody tr th {\n",
       "        vertical-align: top;\n",
       "    }\n",
       "\n",
       "    .dataframe thead th {\n",
       "        text-align: right;\n",
       "    }\n",
       "</style>\n",
       "<table border=\"1\" class=\"dataframe\">\n",
       "  <thead>\n",
       "    <tr style=\"text-align: right;\">\n",
       "      <th></th>\n",
       "      <th>ID</th>\n",
       "      <th>Category</th>\n",
       "      <th>Resume</th>\n",
       "      <th>branding</th>\n",
       "      <th>collateral</th>\n",
       "      <th>competitive analysis</th>\n",
       "      <th>content</th>\n",
       "      <th>customer journeys</th>\n",
       "      <th>data analytics</th>\n",
       "      <th>ecommerce</th>\n",
       "      <th>...</th>\n",
       "      <th>influencer marketing</th>\n",
       "      <th>new market development</th>\n",
       "      <th>paid media and advertising</th>\n",
       "      <th>positioning</th>\n",
       "      <th>SEO</th>\n",
       "      <th>social media</th>\n",
       "      <th>webinars</th>\n",
       "      <th>website development</th>\n",
       "      <th>WordPress</th>\n",
       "      <th>sum</th>\n",
       "    </tr>\n",
       "  </thead>\n",
       "  <tbody>\n",
       "    <tr>\n",
       "      <th>0</th>\n",
       "      <td>1</td>\n",
       "      <td>HR</td>\n",
       "      <td>b'John H. Smith, P.H.R.\\n800-991-5187 | PO Box...</td>\n",
       "      <td>0</td>\n",
       "      <td>0</td>\n",
       "      <td>0</td>\n",
       "      <td>0</td>\n",
       "      <td>0</td>\n",
       "      <td>0</td>\n",
       "      <td>0</td>\n",
       "      <td>...</td>\n",
       "      <td>0</td>\n",
       "      <td>0</td>\n",
       "      <td>0</td>\n",
       "      <td>0</td>\n",
       "      <td>0</td>\n",
       "      <td>0</td>\n",
       "      <td>1</td>\n",
       "      <td>0</td>\n",
       "      <td>0</td>\n",
       "      <td>1</td>\n",
       "    </tr>\n",
       "    <tr>\n",
       "      <th>3</th>\n",
       "      <td>4</td>\n",
       "      <td>HR</td>\n",
       "      <td>b'www.downloadmela.com\\nSatheesh\\nEMAIL ID:\\nC...</td>\n",
       "      <td>0</td>\n",
       "      <td>0</td>\n",
       "      <td>0</td>\n",
       "      <td>0</td>\n",
       "      <td>0</td>\n",
       "      <td>0</td>\n",
       "      <td>0</td>\n",
       "      <td>...</td>\n",
       "      <td>0</td>\n",
       "      <td>0</td>\n",
       "      <td>0</td>\n",
       "      <td>0</td>\n",
       "      <td>0</td>\n",
       "      <td>0</td>\n",
       "      <td>0</td>\n",
       "      <td>0</td>\n",
       "      <td>0</td>\n",
       "      <td>1</td>\n",
       "    </tr>\n",
       "    <tr>\n",
       "      <th>4</th>\n",
       "      <td>5</td>\n",
       "      <td>HR</td>\n",
       "      <td>b\"HUMAN RESOURCES DIRECTOR\\n\\xef\\x82\\xb7Expert...</td>\n",
       "      <td>0</td>\n",
       "      <td>0</td>\n",
       "      <td>0</td>\n",
       "      <td>0</td>\n",
       "      <td>0</td>\n",
       "      <td>0</td>\n",
       "      <td>0</td>\n",
       "      <td>...</td>\n",
       "      <td>0</td>\n",
       "      <td>0</td>\n",
       "      <td>0</td>\n",
       "      <td>0</td>\n",
       "      <td>0</td>\n",
       "      <td>0</td>\n",
       "      <td>0</td>\n",
       "      <td>0</td>\n",
       "      <td>0</td>\n",
       "      <td>1</td>\n",
       "    </tr>\n",
       "    <tr>\n",
       "      <th>5</th>\n",
       "      <td>6</td>\n",
       "      <td>HR</td>\n",
       "      <td>b'John H. Smith, P.H.R.\\n800-991-5187 | PO Box...</td>\n",
       "      <td>0</td>\n",
       "      <td>0</td>\n",
       "      <td>0</td>\n",
       "      <td>0</td>\n",
       "      <td>0</td>\n",
       "      <td>0</td>\n",
       "      <td>0</td>\n",
       "      <td>...</td>\n",
       "      <td>0</td>\n",
       "      <td>0</td>\n",
       "      <td>0</td>\n",
       "      <td>0</td>\n",
       "      <td>0</td>\n",
       "      <td>0</td>\n",
       "      <td>1</td>\n",
       "      <td>0</td>\n",
       "      <td>0</td>\n",
       "      <td>1</td>\n",
       "    </tr>\n",
       "    <tr>\n",
       "      <th>6</th>\n",
       "      <td>7</td>\n",
       "      <td>HR</td>\n",
       "      <td>b'Resume of Satheesh\\n\\nwww.downlo\\nSatheesh\\n...</td>\n",
       "      <td>0</td>\n",
       "      <td>0</td>\n",
       "      <td>0</td>\n",
       "      <td>0</td>\n",
       "      <td>0</td>\n",
       "      <td>0</td>\n",
       "      <td>0</td>\n",
       "      <td>...</td>\n",
       "      <td>0</td>\n",
       "      <td>0</td>\n",
       "      <td>0</td>\n",
       "      <td>0</td>\n",
       "      <td>0</td>\n",
       "      <td>0</td>\n",
       "      <td>0</td>\n",
       "      <td>0</td>\n",
       "      <td>0</td>\n",
       "      <td>1</td>\n",
       "    </tr>\n",
       "    <tr>\n",
       "      <th>...</th>\n",
       "      <td>...</td>\n",
       "      <td>...</td>\n",
       "      <td>...</td>\n",
       "      <td>...</td>\n",
       "      <td>...</td>\n",
       "      <td>...</td>\n",
       "      <td>...</td>\n",
       "      <td>...</td>\n",
       "      <td>...</td>\n",
       "      <td>...</td>\n",
       "      <td>...</td>\n",
       "      <td>...</td>\n",
       "      <td>...</td>\n",
       "      <td>...</td>\n",
       "      <td>...</td>\n",
       "      <td>...</td>\n",
       "      <td>...</td>\n",
       "      <td>...</td>\n",
       "      <td>...</td>\n",
       "      <td>...</td>\n",
       "      <td>...</td>\n",
       "    </tr>\n",
       "    <tr>\n",
       "      <th>3668</th>\n",
       "      <td>25625173</td>\n",
       "      <td>AVIATION</td>\n",
       "      <td>SENIOR LEAD TECHNOLOGIST EDITOR      ...</td>\n",
       "      <td>0</td>\n",
       "      <td>0</td>\n",
       "      <td>0</td>\n",
       "      <td>1</td>\n",
       "      <td>0</td>\n",
       "      <td>0</td>\n",
       "      <td>0</td>\n",
       "      <td>...</td>\n",
       "      <td>0</td>\n",
       "      <td>0</td>\n",
       "      <td>0</td>\n",
       "      <td>0</td>\n",
       "      <td>0</td>\n",
       "      <td>0</td>\n",
       "      <td>0</td>\n",
       "      <td>0</td>\n",
       "      <td>0</td>\n",
       "      <td>2</td>\n",
       "    </tr>\n",
       "    <tr>\n",
       "      <th>3669</th>\n",
       "      <td>29534737</td>\n",
       "      <td>AVIATION</td>\n",
       "      <td>PRODUCTION SUPERVISOR / VALUE STREAM ...</td>\n",
       "      <td>0</td>\n",
       "      <td>0</td>\n",
       "      <td>0</td>\n",
       "      <td>0</td>\n",
       "      <td>0</td>\n",
       "      <td>0</td>\n",
       "      <td>0</td>\n",
       "      <td>...</td>\n",
       "      <td>0</td>\n",
       "      <td>0</td>\n",
       "      <td>0</td>\n",
       "      <td>0</td>\n",
       "      <td>0</td>\n",
       "      <td>0</td>\n",
       "      <td>0</td>\n",
       "      <td>0</td>\n",
       "      <td>0</td>\n",
       "      <td>1</td>\n",
       "    </tr>\n",
       "    <tr>\n",
       "      <th>3670</th>\n",
       "      <td>17655479</td>\n",
       "      <td>AVIATION</td>\n",
       "      <td>PEST CONTROL TECH         Summary    ...</td>\n",
       "      <td>0</td>\n",
       "      <td>0</td>\n",
       "      <td>0</td>\n",
       "      <td>1</td>\n",
       "      <td>0</td>\n",
       "      <td>0</td>\n",
       "      <td>0</td>\n",
       "      <td>...</td>\n",
       "      <td>0</td>\n",
       "      <td>0</td>\n",
       "      <td>0</td>\n",
       "      <td>0</td>\n",
       "      <td>0</td>\n",
       "      <td>0</td>\n",
       "      <td>0</td>\n",
       "      <td>0</td>\n",
       "      <td>0</td>\n",
       "      <td>1</td>\n",
       "    </tr>\n",
       "    <tr>\n",
       "      <th>3673</th>\n",
       "      <td>24589765</td>\n",
       "      <td>AVIATION</td>\n",
       "      <td>GOVERNMENT RELATIONS, COMMUNICATIONS ...</td>\n",
       "      <td>0</td>\n",
       "      <td>0</td>\n",
       "      <td>0</td>\n",
       "      <td>0</td>\n",
       "      <td>0</td>\n",
       "      <td>0</td>\n",
       "      <td>0</td>\n",
       "      <td>...</td>\n",
       "      <td>0</td>\n",
       "      <td>0</td>\n",
       "      <td>0</td>\n",
       "      <td>0</td>\n",
       "      <td>0</td>\n",
       "      <td>1</td>\n",
       "      <td>0</td>\n",
       "      <td>0</td>\n",
       "      <td>0</td>\n",
       "      <td>1</td>\n",
       "    </tr>\n",
       "    <tr>\n",
       "      <th>3675</th>\n",
       "      <td>21190805</td>\n",
       "      <td>AVIATION</td>\n",
       "      <td>PROGRAM DIRECTOR / OFFICE MANAGER    ...</td>\n",
       "      <td>0</td>\n",
       "      <td>0</td>\n",
       "      <td>0</td>\n",
       "      <td>0</td>\n",
       "      <td>0</td>\n",
       "      <td>0</td>\n",
       "      <td>0</td>\n",
       "      <td>...</td>\n",
       "      <td>0</td>\n",
       "      <td>0</td>\n",
       "      <td>0</td>\n",
       "      <td>0</td>\n",
       "      <td>0</td>\n",
       "      <td>1</td>\n",
       "      <td>0</td>\n",
       "      <td>0</td>\n",
       "      <td>0</td>\n",
       "      <td>2</td>\n",
       "    </tr>\n",
       "  </tbody>\n",
       "</table>\n",
       "<p>1715 rows × 24 columns</p>\n",
       "</div>"
      ],
      "text/plain": [
       "            ID  Category                                             Resume  \\\n",
       "0            1        HR  b'John H. Smith, P.H.R.\\n800-991-5187 | PO Box...   \n",
       "3            4        HR  b'www.downloadmela.com\\nSatheesh\\nEMAIL ID:\\nC...   \n",
       "4            5        HR  b\"HUMAN RESOURCES DIRECTOR\\n\\xef\\x82\\xb7Expert...   \n",
       "5            6        HR  b'John H. Smith, P.H.R.\\n800-991-5187 | PO Box...   \n",
       "6            7        HR  b'Resume of Satheesh\\n\\nwww.downlo\\nSatheesh\\n...   \n",
       "...        ...       ...                                                ...   \n",
       "3668  25625173  AVIATION           SENIOR LEAD TECHNOLOGIST EDITOR      ...   \n",
       "3669  29534737  AVIATION           PRODUCTION SUPERVISOR / VALUE STREAM ...   \n",
       "3670  17655479  AVIATION           PEST CONTROL TECH         Summary    ...   \n",
       "3673  24589765  AVIATION           GOVERNMENT RELATIONS, COMMUNICATIONS ...   \n",
       "3675  21190805  AVIATION           PROGRAM DIRECTOR / OFFICE MANAGER    ...   \n",
       "\n",
       "      branding  collateral  competitive analysis  content  customer journeys  \\\n",
       "0            0           0                     0        0                  0   \n",
       "3            0           0                     0        0                  0   \n",
       "4            0           0                     0        0                  0   \n",
       "5            0           0                     0        0                  0   \n",
       "6            0           0                     0        0                  0   \n",
       "...        ...         ...                   ...      ...                ...   \n",
       "3668         0           0                     0        1                  0   \n",
       "3669         0           0                     0        0                  0   \n",
       "3670         0           0                     0        1                  0   \n",
       "3673         0           0                     0        0                  0   \n",
       "3675         0           0                     0        0                  0   \n",
       "\n",
       "      data analytics  ecommerce  ...  influencer marketing  \\\n",
       "0                  0          0  ...                     0   \n",
       "3                  0          0  ...                     0   \n",
       "4                  0          0  ...                     0   \n",
       "5                  0          0  ...                     0   \n",
       "6                  0          0  ...                     0   \n",
       "...              ...        ...  ...                   ...   \n",
       "3668               0          0  ...                     0   \n",
       "3669               0          0  ...                     0   \n",
       "3670               0          0  ...                     0   \n",
       "3673               0          0  ...                     0   \n",
       "3675               0          0  ...                     0   \n",
       "\n",
       "      new market development  paid media and advertising  positioning  SEO  \\\n",
       "0                          0                           0            0    0   \n",
       "3                          0                           0            0    0   \n",
       "4                          0                           0            0    0   \n",
       "5                          0                           0            0    0   \n",
       "6                          0                           0            0    0   \n",
       "...                      ...                         ...          ...  ...   \n",
       "3668                       0                           0            0    0   \n",
       "3669                       0                           0            0    0   \n",
       "3670                       0                           0            0    0   \n",
       "3673                       0                           0            0    0   \n",
       "3675                       0                           0            0    0   \n",
       "\n",
       "      social media  webinars  website development  WordPress  sum  \n",
       "0                0         1                    0          0    1  \n",
       "3                0         0                    0          0    1  \n",
       "4                0         0                    0          0    1  \n",
       "5                0         1                    0          0    1  \n",
       "6                0         0                    0          0    1  \n",
       "...            ...       ...                  ...        ...  ...  \n",
       "3668             0         0                    0          0    2  \n",
       "3669             0         0                    0          0    1  \n",
       "3670             0         0                    0          0    1  \n",
       "3673             1         0                    0          0    1  \n",
       "3675             1         0                    0          0    2  \n",
       "\n",
       "[1715 rows x 24 columns]"
      ]
     },
     "execution_count": 11,
     "metadata": {},
     "output_type": "execute_result"
    }
   ],
   "source": [
    "cols = ['branding','collateral','competitive analysis','content','customer journeys','data analytics','ecommerce','email marketing','events','growth','inbound marketing','influencer marketing','new market development','paid media and advertising','positioning','SEO','social media','webinars','website development','WordPress']\n",
    "resume['sum'] = resume[cols].sum(axis=1)\n",
    "delete_zeros = resume[resume['sum'] !=0]\n",
    "delete_zeros"
   ]
  },
  {
   "cell_type": "code",
   "execution_count": 24,
   "metadata": {},
   "outputs": [],
   "source": [
    "X = delete_zeros.drop(columns = ['ID','Category','Resume','sum']).to_numpy()\n",
    "y = delete_zeros['Category'] # Label"
   ]
  },
  {
   "cell_type": "markdown",
   "metadata": {},
   "source": [
    "___________\n",
    "Simple Match"
   ]
  },
  {
   "cell_type": "markdown",
   "metadata": {},
   "source": [
    "pick random number and find the best 10 macth\n",
    "weibste https://en.wikipedia.org/wiki/S%C3%B8rensen%E2%80%93Dice_coefficient"
   ]
  },
  {
   "cell_type": "markdown",
   "metadata": {},
   "source": [
    " $$DSC={\\frac {2TP}{2TP+FP+FN}}$$"
   ]
  },
  {
   "cell_type": "code",
   "execution_count": 3,
   "metadata": {},
   "outputs": [],
   "source": [
    "\"\"\" Sørensen–Dice coefficient (Dice similarity coefficient) \"\"\"\n",
    "def dice_coefficient(a, b, x, y):\n",
    "    TP = 0\n",
    "    FP_FN = 0\n",
    "    if x == y:\n",
    "        TP += 1\n",
    "    for i in range(len(a)):\n",
    "        if a[i] == 0:\n",
    "            FP_FN += 1\n",
    "        if a[i] == 1:\n",
    "            if b[i] == 0:\n",
    "                FP_FN += 1\n",
    "            if b[i] == 1:\n",
    "                TP += 1\n",
    "    score = 2*TP/(2*TP + FP_FN)\n",
    "    return score"
   ]
  },
  {
   "cell_type": "code",
   "execution_count": 5,
   "metadata": {
    "scrolled": true
   },
   "outputs": [
    {
     "name": "stdout",
     "output_type": "stream",
     "text": [
      "2554\n"
     ]
    }
   ],
   "source": [
    "import random\n",
    "random_resume = random.randrange(0, 3677, 1) # Randomly choose a resume\n",
    "print(random_resume)"
   ]
  },
  {
   "cell_type": "code",
   "execution_count": 6,
   "metadata": {
    "scrolled": true
   },
   "outputs": [
    {
     "name": "stdout",
     "output_type": "stream",
     "text": [
      "The firt tenth matches are: ['0.09090909090909091 -- Resume 770 to 2554', '0.09090909090909091 -- Resume 769 to 2554', '0.09090909090909091 -- Resume 768 to 2554', '0.09090909090909091 -- Resume 767 to 2554', '0.09090909090909091 -- Resume 766 to 2554', '0.09090909090909091 -- Resume 765 to 2554', '0.09090909090909091 -- Resume 764 to 2554', '0.09090909090909091 -- Resume 763 to 2554', '0.09090909090909091 -- Resume 762 to 2554', '0.09090909090909091 -- Resume 761 to 2554']\n"
     ]
    }
   ],
   "source": [
    "DSC_Score = []\n",
    "\n",
    "for i in range(3677):\n",
    "    score = dice_coefficient(X[random_resume,], X[i,], y[random_resume], y[i])\n",
    "    string = \"{} -- Resume {} to {}\".format(score, i, random_resume)\n",
    "    DSC_Score.append(string)\n",
    "    \n",
    "\n",
    "DSC_Score.sort(reverse=True) # sort the list in descending list\n",
    "print('The firt tenth matches are:', DSC_Score[:10])"
   ]
  },
  {
   "cell_type": "markdown",
   "metadata": {},
   "source": [
    "________________\n",
    "Create fake test data, then apply to the fuction to find the best matches with the resume_add_skills dataset."
   ]
  },
  {
   "cell_type": "code",
   "execution_count": 7,
   "metadata": {},
   "outputs": [
    {
     "name": "stdout",
     "output_type": "stream",
     "text": [
      "[[1 1 1 1 1 0 0 0 0 0 1 1 1 1 1 0 0 0 0 0]\n",
      " [0 0 0 0 0 1 1 1 1 1 0 0 0 0 0 1 1 1 1 1]\n",
      " [0 1 0 1 0 1 0 1 0 1 0 1 0 1 0 1 0 1 0 1]\n",
      " [1 0 1 0 1 0 1 0 1 0 1 0 1 0 1 0 1 0 1 0]]\n"
     ]
    }
   ],
   "source": [
    "test_data = np.array([[1,1,1,1,1,0,0,0,0,0,1,1,1,1,1,0,0,0,0,0], [0,0,0,0,0,1,1,1,1,1,0,0,0,0,0,1,1,1,1,1], [0,1,0,1,0,1,0,1,0,1,0,1,0,1,0,1,0,1,0,1], [1,0,1,0,1,0,1,0,1,0,1,0,1,0,1,0,1,0,1,0]])\n",
    "print(test_data)"
   ]
  },
  {
   "cell_type": "code",
   "execution_count": 8,
   "metadata": {},
   "outputs": [
    {
     "name": "stdout",
     "output_type": "stream",
     "text": [
      "The firt tenth matches for the first test data are: ['0.4 -- Resume 2866', '0.3333333333333333 -- Resume 3291', '0.3333333333333333 -- Resume 2521', '0.3333333333333333 -- Resume 2432', '0.3333333333333333 -- Resume 1370', '0.2608695652173913 -- Resume 719', '0.2608695652173913 -- Resume 704', '0.2608695652173913 -- Resume 671', '0.2608695652173913 -- Resume 651', '0.2608695652173913 -- Resume 49']\n",
      "The firt tenth matches for the second test data are: ['0.46153846153846156 -- Resume 2432', '0.46153846153846156 -- Resume 2215', '0.4 -- Resume 3558', '0.4 -- Resume 2526', '0.4 -- Resume 1793', '0.3333333333333333 -- Resume 719', '0.3333333333333333 -- Resume 692', '0.3333333333333333 -- Resume 3336', '0.3333333333333333 -- Resume 3313', '0.3333333333333333 -- Resume 3289']\n",
      "The firt tenth matches for the third test data are: ['0.46153846153846156 -- Resume 1793', '0.4 -- Resume 3558', '0.4 -- Resume 2511', '0.4 -- Resume 2432', '0.4 -- Resume 2215', '0.3333333333333333 -- Resume 692', '0.3333333333333333 -- Resume 3313', '0.3333333333333333 -- Resume 3256', '0.3333333333333333 -- Resume 3242', '0.3333333333333333 -- Resume 2822']\n",
      "The firt tenth matches for the forth test data are: ['0.4 -- Resume 2432', '0.4 -- Resume 1370', '0.3333333333333333 -- Resume 719', '0.3333333333333333 -- Resume 3308', '0.3333333333333333 -- Resume 3287', '0.3333333333333333 -- Resume 3259', '0.3333333333333333 -- Resume 3250', '0.3333333333333333 -- Resume 2866', '0.3333333333333333 -- Resume 2672', '0.3333333333333333 -- Resume 2526']\n"
     ]
    }
   ],
   "source": [
    "DSC_Score_test = []\n",
    "\n",
    "for i in range(3677):\n",
    "    score = dice_coefficient(test_data[0,], X[i,], 'Banking', y[i]) # ‘Banking’ is randomly chosen, same as follows.\n",
    "    string = \"{} -- Resume {}\".format(score, i)\n",
    "    DSC_Score_test.append(string)\n",
    "    \n",
    "\n",
    "DSC_Score_test.sort(reverse=True) # sort the list in descending list\n",
    "print('The firt tenth matches for the first test data are:', DSC_Score_test[:10])\n",
    "\n",
    "DSC_Score_test = []\n",
    "\n",
    "for i in range(3677):\n",
    "    score = dice_coefficient(test_data[1,], X[i,], 'Accountant', y[i])\n",
    "    string = \"{} -- Resume {}\".format(score, i)\n",
    "    DSC_Score_test.append(string)\n",
    "    \n",
    "\n",
    "DSC_Score_test.sort(reverse=True) # sort the list in descending list\n",
    "print('The firt tenth matches for the second test data are:', DSC_Score_test[:10])\n",
    "\n",
    "DSC_Score_test = []\n",
    "\n",
    "for i in range(3677):\n",
    "    score = dice_coefficient(test_data[2,], X[i,], 'Education', y[i])\n",
    "    string = \"{} -- Resume {}\".format(score, i)\n",
    "    DSC_Score_test.append(string)\n",
    "    \n",
    "\n",
    "DSC_Score_test.sort(reverse=True) # sort the list in descending list\n",
    "print('The firt tenth matches for the third test data are:', DSC_Score_test[:10])\n",
    "\n",
    "DSC_Score_test = []\n",
    "\n",
    "for i in range(3677):\n",
    "    score = dice_coefficient(test_data[3,], X[i,], 'HR', y[i])\n",
    "    string = \"{} -- Resume {}\".format(score, i)\n",
    "    DSC_Score_test.append(string)\n",
    "    \n",
    "\n",
    "DSC_Score_test.sort(reverse=True) # sort the list in descending list\n",
    "print('The firt tenth matches for the forth test data are:', DSC_Score_test[:10])"
   ]
  },
  {
   "cell_type": "code",
   "execution_count": 9,
   "metadata": {},
   "outputs": [
    {
     "name": "stdout",
     "output_type": "stream",
     "text": [
      "[1 1 1 1 1 0 0 0 0 0 1 1 1 1 1 0 0 0 0 0] Banking\n",
      "[1 1 1 1 0 0 0 0 0 0 0 0 0 0 1 1 1 0 0 0] APPAREL\n",
      "[1 1 0 1 0 0 0 0 1 1 0 0 0 0 1 0 0 0 0 0] PUBLIC-RELATIONS\n"
     ]
    }
   ],
   "source": [
    "print(test_data[0,], 'Banking') # Compare the test data with the first 2 best matches resume\n",
    "print(X[2866,], y[2866])\n",
    "print(X[3291,], y[3291])"
   ]
  },
  {
   "cell_type": "markdown",
   "metadata": {},
   "source": [
    "#### Classification with Machine Learning\n",
    "___\n",
    "K-mean clustering"
   ]
  },
  {
   "cell_type": "code",
   "execution_count": 25,
   "metadata": {},
   "outputs": [],
   "source": [
    "from sklearn.model_selection import train_test_split\n",
    "X_train, X_test, y_train, y_test = train_test_split(X, y, test_size=0.2, random_state=1) # Set Train and Test dataset"
   ]
  },
  {
   "cell_type": "code",
   "execution_count": 26,
   "metadata": {},
   "outputs": [
    {
     "name": "stdout",
     "output_type": "stream",
     "text": [
      "(30,)\n"
     ]
    }
   ],
   "source": [
    "nums_of_category = y.drop_duplicates().shape # numbers of different category, k = 47\n",
    "print(nums_of_category)"
   ]
  },
  {
   "cell_type": "code",
   "execution_count": 73,
   "metadata": {},
   "outputs": [
    {
     "data": {
      "text/plain": [
       "array([14,  0,  0, ...,  3,  6,  7])"
      ]
     },
     "execution_count": 73,
     "metadata": {},
     "output_type": "execute_result"
    }
   ],
   "source": [
    "from sklearn.cluster import KMeans\n",
    "km = KMeans(n_clusters=30,random_state = 0)\n",
    "y_km = km.fit_predict(X)\n",
    "y_km"
   ]
  },
  {
   "cell_type": "code",
   "execution_count": 68,
   "metadata": {},
   "outputs": [
    {
     "data": {
      "image/png": "[encoded data removed]",
      "text/plain": [
       "<Figure size 432x288 with 1 Axes>"
      ]
     },
     "metadata": {
      "needs_background": "light"
     },
     "output_type": "display_data"
    }
   ],
   "source": [
    "# plot the centroids\n",
    "plt.scatter(\n",
    "    km.cluster_centers_[:, 0], km.cluster_centers_[:, 1],\n",
    "    s=250, marker='*',\n",
    "    c='red', edgecolor='black',\n",
    "    label='centroids'\n",
    ")\n",
    "plt.legend(scatterpoints=1)\n",
    "plt.grid()\n",
    "plt.show()"
   ]
  },
  {
   "cell_type": "code",
   "execution_count": 74,
   "metadata": {},
   "outputs": [
    {
     "data": {
      "text/plain": [
       "0.014512329367875868"
      ]
     },
     "execution_count": 74,
     "metadata": {},
     "output_type": "execute_result"
    }
   ],
   "source": [
    "from sklearn import metrics\n",
    "metrics.adjusted_rand_score(y_km, y)"
   ]
  },
  {
   "cell_type": "markdown",
   "metadata": {},
   "source": [
    "______\n",
    "K-NN"
   ]
  },
  {
   "cell_type": "code",
   "execution_count": 75,
   "metadata": {},
   "outputs": [],
   "source": [
    "from sklearn.neighbors import KNeighborsClassifier"
   ]
  },
  {
   "cell_type": "code",
   "execution_count": 37,
   "metadata": {},
   "outputs": [],
   "source": [
    "model = KNeighborsClassifier(n_neighbors = 30)"
   ]
  },
  {
   "cell_type": "code",
   "execution_count": 38,
   "metadata": {},
   "outputs": [
    {
     "data": {
      "text/plain": [
       "KNeighborsClassifier(n_neighbors=30)"
      ]
     },
     "execution_count": 38,
     "metadata": {},
     "output_type": "execute_result"
    }
   ],
   "source": [
    "model.fit(X_train, y_train)"
   ]
  },
  {
   "cell_type": "code",
   "execution_count": 39,
   "metadata": {},
   "outputs": [],
   "source": [
    "predictions = model.predict(X_test)"
   ]
  },
  {
   "cell_type": "code",
   "execution_count": 40,
   "metadata": {},
   "outputs": [],
   "source": [
    "from sklearn.metrics import classification_report"
   ]
  },
  {
   "cell_type": "code",
   "execution_count": 41,
   "metadata": {},
   "outputs": [
    {
     "name": "stdout",
     "output_type": "stream",
     "text": [
      "                         precision    recall  f1-score   support\n",
      "\n",
      "             ACCOUNTANT       0.00      0.00      0.00        11\n",
      "               ADVOCATE       0.05      0.08      0.06        12\n",
      "            AGRICULTURE       0.03      0.40      0.06         5\n",
      "                APPAREL       0.00      0.00      0.00         7\n",
      "                   ARTS       0.00      0.00      0.00        11\n",
      "             AUTOMOBILE       0.00      0.00      0.00         5\n",
      "               AVIATION       0.00      0.00      0.00         4\n",
      "                BANKING       0.00      0.00      0.00        16\n",
      "                    BPO       0.00      0.00      0.00         1\n",
      "   BUSINESS-DEVELOPMENT       0.05      0.04      0.04        25\n",
      "Building & Construction       0.00      0.00      0.00         2\n",
      "                   CHEF       0.11      0.50      0.19        18\n",
      "           CONSTRUCTION       0.00      0.00      0.00         8\n",
      "             CONSULTANT       0.00      0.00      0.00        18\n",
      "               DESIGNER       0.20      0.53      0.29        19\n",
      "          DIGITAL-MEDIA       0.34      0.31      0.33        32\n",
      "            ENGINEERING       0.00      0.00      0.00        17\n",
      "              Education       0.00      0.00      0.00         5\n",
      "                FINANCE       0.00      0.00      0.00        13\n",
      "                FITNESS       0.00      0.00      0.00        13\n",
      "             HEALTHCARE       0.00      0.00      0.00         9\n",
      "                     HR       0.00      0.00      0.00        10\n",
      "       Health & Fitness       0.00      0.00      0.00         1\n",
      " INFORMATION-TECHNOLOGY       0.00      0.00      0.00        24\n",
      "              Managment       0.00      0.00      0.00         7\n",
      "       PUBLIC-RELATIONS       0.41      0.45      0.43        20\n",
      "                  SALES       0.19      0.24      0.21        17\n",
      "                TEACHER       0.00      0.00      0.00        13\n",
      "\n",
      "               accuracy                           0.13       343\n",
      "              macro avg       0.05      0.09      0.06       343\n",
      "           weighted avg       0.09      0.13      0.10       343\n",
      "\n"
     ]
    },
    {
     "name": "stderr",
     "output_type": "stream",
     "text": [
      "C:\\Users\\Lenovo\\anaconda3\\lib\\site-packages\\sklearn\\metrics\\_classification.py:1221: UndefinedMetricWarning: Precision and F-score are ill-defined and being set to 0.0 in labels with no predicted samples. Use `zero_division` parameter to control this behavior.\n",
      "  _warn_prf(average, modifier, msg_start, len(result))\n"
     ]
    }
   ],
   "source": [
    "print(classification_report(y_test, predictions))"
   ]
  },
  {
   "cell_type": "code",
   "execution_count": 76,
   "metadata": {},
   "outputs": [],
   "source": [
    "error_rates = [] # find the optimal k\n",
    "for i in np.arange(1, 101):\n",
    "\n",
    "    new_model = KNeighborsClassifier(n_neighbors = i)\n",
    "\n",
    "    new_model.fit(X_train, y_train)\n",
    "\n",
    "    new_predictions = new_model.predict(X_test)\n",
    "\n",
    "    error_rates.append(np.mean(new_predictions != y_test))"
   ]
  },
  {
   "cell_type": "code",
   "execution_count": 77,
   "metadata": {},
   "outputs": [
    {
     "data": {
      "text/plain": [
       "[<matplotlib.lines.Line2D at 0x1356c2d0430>]"
      ]
     },
     "execution_count": 77,
     "metadata": {},
     "output_type": "execute_result"
    },
    {
     "data": {
      "image/png": "[encoded data removed]",
      "text/plain": [
       "<Figure size 432x288 with 1 Axes>"
      ]
     },
     "metadata": {
      "needs_background": "light"
     },
     "output_type": "display_data"
    }
   ],
   "source": [
    "plt.plot(error_rates)"
   ]
  },
  {
   "cell_type": "code",
   "execution_count": 78,
   "metadata": {},
   "outputs": [
    {
     "data": {
      "text/plain": [
       "0.13411078717201166"
      ]
     },
     "execution_count": 78,
     "metadata": {},
     "output_type": "execute_result"
    }
   ],
   "source": [
    "from sklearn.metrics import accuracy_score\n",
    "acc_K_NN = accuracy_score(predictions, y_test)\n",
    "acc_K_NN"
   ]
  },
  {
   "cell_type": "code",
   "execution_count": 79,
   "metadata": {},
   "outputs": [
    {
     "name": "stdout",
     "output_type": "stream",
     "text": [
      "KNN Classification Test Accuracy: 13.41%\n"
     ]
    }
   ],
   "source": [
    "knn = KNeighborsClassifier(n_neighbors=30)\n",
    "knn.fit(X_train, y_train)\n",
    "knn_prediction = knn.predict(X_test)\n",
    "knn_score = knn.score(X_test, y_test)\n",
    "print(\"KNN Classification Test Accuracy: {}%\".format(round(knn.score(X_test,y_test)*100,2)))"
   ]
  },
  {
   "cell_type": "code",
   "execution_count": null,
   "metadata": {},
   "outputs": [],
   "source": [
    "import gensim\n",
    "from gensim.models import Word2Vec, KeyedVectors\n",
    "import multiprocessing"
   ]
  },
  {
   "cell_type": "code",
   "execution_count": null,
   "metadata": {},
   "outputs": [],
   "source": [
    "spaCy name entity recognitation"
   ]
  }
 ],
 "metadata": {
  "kernelspec": {
   "display_name": "Python 3",
   "language": "python",
   "name": "python3"
  },
  "language_info": {
   "codemirror_mode": {
    "name": "ipython",
    "version": 3
   },
   "file_extension": ".py",
   "mimetype": "text/x-python",
   "name": "python",
   "nbconvert_exporter": "python",
   "pygments_lexer": "ipython3",
   "version": "3.8.5"
  }
 },
 "nbformat": 4,
 "nbformat_minor": 4
}
